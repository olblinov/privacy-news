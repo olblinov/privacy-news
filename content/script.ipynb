{
 "cells": [
  {
   "cell_type": "code",
   "execution_count": 14,
   "metadata": {},
   "outputs": [],
   "source": [
    "import os\n",
    "import re\n",
    "\n",
    "def reformat_md_files(directory):\n",
    "    for root, _, files in os.walk(directory):\n",
    "        for file in files:\n",
    "            if file.endswith(\".md\"):\n",
    "                file_path = os.path.join(root, file)\n",
    "                \n",
    "                with open(file_path, 'r', encoding='utf-8') as f:\n",
    "                    content = f.read()\n",
    "                \n",
    "                # Skip files that are already reformatted\n",
    "                if content.strip().startswith(\"---\"):\n",
    "                    continue\n",
    "                \n",
    "                # Extract tags (e.g., #tag)\n",
    "                tags = re.findall(r\"#(\\w+)\", content)\n",
    "                \n",
    "                # Extract hyperlinks and clean them\n",
    "                links = re.findall(r\"https?://[^\\s\\)]+\", content)\n",
    "                links = list(set(link for link in links if not any(link.startswith(f\"#{tag}\") for tag in tags)))  # Exclude tag links\n",
    "                \n",
    "                # Prepare the header\n",
    "                title = os.path.splitext(file)[0]\n",
    "                header = f\"---\\ntitle: {title}\\ntags:\\n\"\n",
    "                header += \"\".join([f\"  - {tag}\\n\" for tag in set(tags)])\n",
    "                header += \"links:\\n\"\n",
    "                header += \"\".join([f\"  - {link}\\n\" for link in links])\n",
    "                header += \"---\\n\\n\"\n",
    "                \n",
    "                # Remove all hyperlinks and \" ():\" combinations from the content\n",
    "                content_without_links = re.sub(r\"https?://[^\\s\\)]+\", \"\", content)\n",
    "                content_cleaned = re.sub(r\"\\s\\(\\):\", \"\", content_without_links)\n",
    "                \n",
    "                # Rewrite the file\n",
    "                new_content = header + content_cleaned\n",
    "                with open(file_path, 'w', encoding='utf-8') as f:\n",
    "                    f.write(new_content)\n",
    "\n",
    "# Replace 'your_directory_path' with the path to the folder containing the .md files\n",
    "reformat_md_files('2024/January')"
   ]
  },
  {
   "cell_type": "code",
   "execution_count": null,
   "metadata": {},
   "outputs": [],
   "source": []
  }
 ],
 "metadata": {
  "kernelspec": {
   "display_name": "joom-internal",
   "language": "python",
   "name": "python3"
  },
  "language_info": {
   "codemirror_mode": {
    "name": "ipython",
    "version": 3
   },
   "file_extension": ".py",
   "mimetype": "text/x-python",
   "name": "python",
   "nbconvert_exporter": "python",
   "pygments_lexer": "ipython3",
   "version": "3.8.16"
  }
 },
 "nbformat": 4,
 "nbformat_minor": 2
}
